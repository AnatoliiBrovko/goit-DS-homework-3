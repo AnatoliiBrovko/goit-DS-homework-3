{
  "nbformat": 4,
  "nbformat_minor": 0,
  "metadata": {
    "colab": {
      "provenance": []
    },
    "kernelspec": {
      "name": "python3",
      "display_name": "Python 3"
    },
    "language_info": {
      "name": "python"
    }
  },
  "cells": [
    {
      "cell_type": "code",
      "execution_count": 21,
      "metadata": {
        "id": "rqwlxwGyNeib"
      },
      "outputs": [],
      "source": [
        "import numpy as np\n",
        "import pandas as pd\n",
        "from sklearn.preprocessing import MinMaxScaler\n",
        "from sklearn.linear_model import LinearRegression\n",
        "df = pd.read_csv(\"/content/drive/MyDrive/IT/Housing.csv\")"
      ]
    },
    {
      "cell_type": "code",
      "source": [
        "#1.напишіть функцію гіпотези лінійної регресії у векторному вигляді;\n",
        "def h1(w, X):\n",
        "    return (np.dot(w, X))"
      ],
      "metadata": {
        "id": "39rCLFuxNng0"
      },
      "execution_count": null,
      "outputs": []
    },
    {
      "cell_type": "code",
      "source": [
        "#2.створіть функцію для обчислення функції втрат у векторному вигляді;\n",
        "def mean_square_error(y_true, y_predicted):\n",
        "    return np.sum((y_true - y_predicted)**2) / (2 * len(y_true))"
      ],
      "metadata": {
        "id": "FCEOdKm4N0Z7"
      },
      "execution_count": null,
      "outputs": []
    },
    {
      "cell_type": "code",
      "source": [
        "#3.реалізуйте один крок градієнтного спуску;\n",
        "def gradient_descent(x, y, iterations = 1, learning_rate = 0.0001):\n",
        "    current_slope = 0.1 #Початкові значення ваги/ухил\n",
        "    current_intercept = 0.01 #Поточне підняття\n",
        "    n = float(len(x))\n",
        "    for i in range(iterations):\n",
        "        y_pred = current_slope*x + current_intercept # y_pred передбачення\n",
        "        cost = mean_square_error(y, y_pred) # поточна втрата\n",
        "\n",
        "        slope_derivative = -(2/n) * sum(x * (y - y_pred)) #Похідна\n",
        "        intercept_derivative = -(2/n) * sum(y - y_pred) #Похідна\n",
        "\n",
        "        current_slope = current_slope - (learning_rate * slope_derivative)\n",
        "        current_intercept = current_intercept - (learning_rate * intercept_derivative)\n",
        "\n",
        "    return current_slope, current_intercept"
      ],
      "metadata": {
        "id": "ZwHw3xGhN4Rx"
      },
      "execution_count": null,
      "outputs": []
    },
    {
      "cell_type": "code",
      "source": [
        "#4.знайдіть найкращі параметри $\\vec{w}$ для датасету прогнозуючу ціну на будинок залежно від площі, кількості ванних кімнат та кількості спалень;\n",
        "X = df[['area', 'bedrooms', 'bathrooms']]\n",
        "y = df['price']\n",
        "\n",
        "scaler = MinMaxScaler()\n",
        "X_scaled = scaler.fit_transform(X)\n",
        "\n",
        "X_normalized = np.column_stack((np.ones(len(X_scaled)), X_scaled))\n",
        "model = LinearRegression()\n",
        "model.fit(X_normalized, y)\n",
        "estimation = model.predict(X_normalized)\n",
        "a = np.append(model.intercept_, model.coef_[1:], axis=None)\n",
        "print(a)"
      ],
      "metadata": {
        "colab": {
          "base_uri": "https://localhost:8080/"
        },
        "id": "6PNWY-F-_4Mz",
        "outputId": "67bd524a-e892-44c7-ffc0-fcf6a377d45d"
      },
      "execution_count": 22,
      "outputs": [
        {
          "output_type": "stream",
          "name": "stdout",
          "text": [
            "[2244656.46734297 5510998.06466325 2034100.16884591 4158148.49337299]\n"
          ]
        }
      ]
    },
    {
      "cell_type": "code",
      "source": [
        "#5.знайдіть ці ж параметри за допомогою аналітичного рішення;\n",
        "b = np.linalg.inv(X_normalized.T @ X_normalized) @ X_normalized.T @ y\n",
        "print(b)"
      ],
      "metadata": {
        "id": "2U1byHQwOCA0",
        "colab": {
          "base_uri": "https://localhost:8080/"
        },
        "outputId": "9f287251-ea38-49e3-fa23-cf9e2d88efdc"
      },
      "execution_count": 23,
      "outputs": [
        {
          "output_type": "stream",
          "name": "stdout",
          "text": [
            "[2244656.46734293 5510998.06466324 2034100.16884599 4158148.49337299]\n"
          ]
        }
      ]
    },
    {
      "cell_type": "code",
      "source": [
        "#6.порівняйте отримані результати.\n",
        "print(np.round(a, decimals=6) == np.round(b, decimals=6))"
      ],
      "metadata": {
        "id": "0chHEh4uPigI",
        "colab": {
          "base_uri": "https://localhost:8080/"
        },
        "outputId": "d7f7fa33-05fa-4d49-b58a-db92a3b9a259"
      },
      "execution_count": 24,
      "outputs": [
        {
          "output_type": "stream",
          "name": "stdout",
          "text": [
            "[ True  True  True  True]\n"
          ]
        }
      ]
    }
  ]
}